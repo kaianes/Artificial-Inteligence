{
 "cells": [
  {
   "cell_type": "markdown",
   "id": "d282c529",
   "metadata": {},
   "source": [
    "# Aautonomous gameplaying program\n",
    "## Tic-Tac-Toe"
   ]
  },
  {
   "cell_type": "code",
   "execution_count": 1,
   "id": "be61578a",
   "metadata": {},
   "outputs": [],
   "source": [
    "import math"
   ]
  },
  {
   "cell_type": "markdown",
   "id": "d7414972",
   "metadata": {},
   "source": [
    "### Grid"
   ]
  },
  {
   "cell_type": "code",
   "execution_count": null,
   "id": "12b6cc19",
   "metadata": {},
   "outputs": [],
   "source": [
    "# Show the current state of the 3×3 grid\n",
    "def show_grid(grid):\n",
    "    for row in grid:\n",
    "        print(\" | \".join(row))\n",
    "        print(\"-\" * 9)"
   ]
  },
  {
   "cell_type": "code",
   "execution_count": 4,
   "id": "dcabb5a6",
   "metadata": {},
   "outputs": [
    {
     "name": "stdout",
     "output_type": "stream",
     "text": [
      "X | O | X\n",
      "---------\n",
      "O | X | O\n",
      "---------\n",
      "X | O | X\n",
      "---------\n"
     ]
    }
   ],
   "source": [
    "# Example usage\n",
    "board = [[\"X\", \"O\", \"X\"],\n",
    "         [\"O\", \"X\", \"O\"],\n",
    "         [\"X\", \"O\", \"X\"]]\n",
    "show_grid(board)"
   ]
  },
  {
   "cell_type": "markdown",
   "id": "b20ac7d9",
   "metadata": {},
   "source": [
    "### Winner"
   ]
  },
  {
   "cell_type": "code",
   "execution_count": null,
   "id": "d0ae2c29",
   "metadata": {},
   "outputs": [],
   "source": [
    "# Checks all possible winning lines (rows, columns, diagonals) and draws.\n",
    "def check_winner(grid):\n",
    "    # Check rows and columns\n",
    "    for i in range(3):\n",
    "        if grid[i][0] == grid[i][1] == grid[i][2] != \" \":\n",
    "            return grid[i][0]\n",
    "        if grid[0][i] == grid[1][i] == grid[2][i] != \" \":\n",
    "            return grid[0][i]\n",
    "    \n",
    "    # Check diagonals\n",
    "    if grid[0][0] == grid[1][1] == grid[2][2] != \" \":\n",
    "        return grid[0][0]\n",
    "    if grid[0][2] == grid[1][1] == grid[2][0] != \" \":\n",
    "        return grid[0][2]\n",
    "    \n",
    "    # Check for draw\n",
    "    if all(cell != \" \" for row in grid for cell in row):\n",
    "        return \"Draw\"\n",
    "    \n",
    "    return Non"
   ]
  },
  {
   "cell_type": "code",
   "execution_count": 6,
   "id": "8cd06f97",
   "metadata": {},
   "outputs": [
    {
     "name": "stdout",
     "output_type": "stream",
     "text": [
      "Result: X\n"
     ]
    }
   ],
   "source": [
    "# Check for a winner\n",
    "result = check_winner(board)\n",
    "print(\"Result:\", result)"
   ]
  },
  {
   "cell_type": "markdown",
   "id": "3f58359a",
   "metadata": {},
   "source": [
    "### Available moves"
   ]
  },
  {
   "cell_type": "code",
   "execution_count": null,
   "id": "1c9d4c27",
   "metadata": {},
   "outputs": [],
   "source": [
    "# Checks available moves on the grid.\n",
    "def available_moves(grid):\n",
    "    moves = []\n",
    "    for i in range(3):\n",
    "        for j in range(3):\n",
    "            if grid[i][j] == \" \":\n",
    "                moves.append((i, j))\n",
    "    return moves"
   ]
  },
  {
   "cell_type": "code",
   "execution_count": 28,
   "id": "33f3e252",
   "metadata": {},
   "outputs": [
    {
     "name": "stdout",
     "output_type": "stream",
     "text": [
      "Available moves: [(0, 1), (1, 2)]\n"
     ]
    }
   ],
   "source": [
    "# Tests the available_moves function\n",
    "board = [[\"X\", \" \", \"X\"],\n",
    "         [\"O\", \"X\", \" \"],\n",
    "         [\"X\", \"O\", \"X\"]]\n",
    "print(\"Available moves:\", available_moves(board))"
   ]
  },
  {
   "cell_type": "markdown",
   "id": "81c009ab",
   "metadata": {},
   "source": [
    "### The Minimax Algorithm"
   ]
  },
  {
   "cell_type": "code",
   "execution_count": null,
   "id": "be7c0208",
   "metadata": {},
   "outputs": [],
   "source": [
    "# Recursive Minimax algorithm to choose the optimal move.\n",
    "\n",
    "def minimax(board, depth, is_maximizing):\n",
    "    # Check if there's a winner\n",
    "    winner = check_winner(board)\n",
    "    if winner == \"O\":\n",
    "        return 1\n",
    "    elif winner == \"X\":\n",
    "        return -1\n",
    "    elif winner == \"Draw\":\n",
    "        return 0\n",
    "\n",
    "    # Maximizing player (AI) - \"O\"\n",
    "    if is_maximizing:\n",
    "        # Compare the returned score with the current best_score, and keep the higher one\n",
    "        best_score = -math.inf\n",
    "        for (i, j) in available_moves(board):\n",
    "            board[i][j] = \"O\"\n",
    "            score = minimax(board, depth + 1, False)\n",
    "            board[i][j] = \" \"\n",
    "            best_score = max(best_score, score)\n",
    "        return best_score\n",
    "\n",
    "    # Minimizing player (Human) - \"X\"\n",
    "    else:\n",
    "        # Compare the returned score with best_score, and keep the lower one\n",
    "        best_score = math.inf\n",
    "        for (i, j) in available_moves(board):\n",
    "            board[i][j] = \"X\"\n",
    "            score = minimax(board, depth + 1, True)\n",
    "            board[i][j] = \" \"\n",
    "            best_score = min(best_score, score)\n",
    "        return best_score"
   ]
  },
  {
   "cell_type": "code",
   "execution_count": null,
   "id": "203b690e",
   "metadata": {},
   "outputs": [
    {
     "name": "stdout",
     "output_type": "stream",
     "text": [
      "Minimax score: -1\n"
     ]
    }
   ],
   "source": [
    "# Tests the minimax function\n",
    "board = [[\"X\", \"O\", \"X\"],\n",
    "         [\"O\", \"X\", \" \"],\n",
    "         [\"X\", \"O\", \"X\"]]\n",
    "print(\"Minimax score:\", minimax(board, 0, True))"
   ]
  },
  {
   "cell_type": "markdown",
   "id": "fedd5ce5",
   "metadata": {},
   "source": [
    "### Best move"
   ]
  },
  {
   "cell_type": "code",
   "execution_count": 12,
   "id": "10044d72",
   "metadata": {},
   "outputs": [],
   "source": [
    "# Tests every available move for the AI player\n",
    "def best_move(board):\n",
    "    # Start with the worst possible score\n",
    "    best_score = -math.inf\n",
    "    move = (-1, -1)\n",
    "\n",
    "    # Evaluate each available move\n",
    "    for (i, j) in available_moves(board):\n",
    "        board[i][j] = \"O\"\n",
    "        # Call minimax to get the score for this move\n",
    "        score = minimax(board, 0, False)\n",
    "        board[i][j] = \" \"\n",
    "        if score > best_score:\n",
    "            best_score = score\n",
    "            move = (i, j)\n",
    "    # Return the best move found\n",
    "    return move"
   ]
  },
  {
   "cell_type": "code",
   "execution_count": 29,
   "id": "6fafe308",
   "metadata": {},
   "outputs": [
    {
     "name": "stdout",
     "output_type": "stream",
     "text": [
      "Best move: (0, 1)\n"
     ]
    }
   ],
   "source": [
    "# Tests the best_move function\n",
    "board = [[\"X\", \" \", \"X\"],\n",
    "         [\"O\", \"O\", \" \"],\n",
    "         [\" \", \"O\", \"X\"]]\n",
    "print(\"Best move:\", best_move(board))"
   ]
  },
  {
   "cell_type": "markdown",
   "id": "0b4cb778",
   "metadata": {},
   "source": [
    "🔎 doesn't the algorithm check the defenses moves?"
   ]
  },
  {
   "cell_type": "markdown",
   "id": "f30289fc",
   "metadata": {},
   "source": [
    "## Play Game"
   ]
  },
  {
   "cell_type": "code",
   "execution_count": 30,
   "id": "77f4bd8d",
   "metadata": {},
   "outputs": [],
   "source": [
    "# Function to play the game\n",
    "def play_game():\n",
    "    print(\"Welcome to Tic-Tac-Toe!\")\n",
    "    print (\"You are 'X' and the AI is 'O'.\")\n",
    "    grid = [[\" \" for _ in range(3)] for _ in range(3)]\n",
    "    current_player = \"X\"  # Human starts first\n",
    "\n",
    "    while True:\n",
    "        show_grid(grid)\n",
    "        print(\"                                                    \")\n",
    "        winner = check_winner(grid)\n",
    "        if winner:\n",
    "            if winner == \"Draw\":\n",
    "                print(\"It's a draw!\")\n",
    "            else:\n",
    "                print(f\"{winner} wins!\")\n",
    "            break\n",
    "\n",
    "        if current_player == \"X\":\n",
    "            print(\"Your turn!\")\n",
    "            row = int(input(\"Enter your move row (0-2): \"))\n",
    "            col = int(input(\"Enter your move column (0-2): \"))\n",
    "            if (row, col) in available_moves(grid):\n",
    "                grid[row][col] = \"X\"\n",
    "                current_player = \"O\"\n",
    "            else:\n",
    "                print(\"Invalid move. Try again.\")\n",
    "        else:\n",
    "            print(\"AI is making a move...\")\n",
    "            move = best_move(grid)\n",
    "            grid[move[0]][move[1]] = \"O\"\n",
    "            current_player = \"X\""
   ]
  },
  {
   "cell_type": "code",
   "execution_count": 31,
   "id": "bcbcfb8b",
   "metadata": {},
   "outputs": [
    {
     "name": "stdout",
     "output_type": "stream",
     "text": [
      "Welcome to Tic-Tac-Toe!\n",
      "You are 'X' and the AI is 'O'.\n",
      "  |   |  \n",
      "---------\n",
      "  |   |  \n",
      "---------\n",
      "  |   |  \n",
      "---------\n",
      "                                                    \n",
      "Your turn!\n",
      "  |   |  \n",
      "---------\n",
      "  | X |  \n",
      "---------\n",
      "  |   |  \n",
      "---------\n",
      "                                                    \n",
      "AI is making a move...\n",
      "O |   |  \n",
      "---------\n",
      "  | X |  \n",
      "---------\n",
      "  |   |  \n",
      "---------\n",
      "                                                    \n",
      "Your turn!\n",
      "O | X |  \n",
      "---------\n",
      "  | X |  \n",
      "---------\n",
      "  |   |  \n",
      "---------\n",
      "                                                    \n",
      "AI is making a move...\n",
      "O | X | O\n",
      "---------\n",
      "  | X |  \n",
      "---------\n",
      "  |   |  \n",
      "---------\n",
      "                                                    \n",
      "Your turn!\n",
      "O | X | O\n",
      "---------\n",
      "  | X |  \n",
      "---------\n",
      "  | X |  \n",
      "---------\n",
      "                                                    \n",
      "X wins!\n"
     ]
    }
   ],
   "source": [
    "# Let's play the game\n",
    "play_game()"
   ]
  }
 ],
 "metadata": {
  "kernelspec": {
   "display_name": "Python 3.12 (.venv ai-game)",
   "language": "python",
   "name": "ai-game-venv"
  },
  "language_info": {
   "codemirror_mode": {
    "name": "ipython",
    "version": 3
   },
   "file_extension": ".py",
   "mimetype": "text/x-python",
   "name": "python",
   "nbconvert_exporter": "python",
   "pygments_lexer": "ipython3",
   "version": "3.12.6"
  }
 },
 "nbformat": 4,
 "nbformat_minor": 5
}
