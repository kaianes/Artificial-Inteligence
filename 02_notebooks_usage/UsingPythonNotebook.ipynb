{
 "cells": [
  {
   "cell_type": "markdown",
   "id": "d2428d50",
   "metadata": {},
   "source": [
    "# Lab2 Exercises"
   ]
  },
  {
   "cell_type": "markdown",
   "id": "310b095e",
   "metadata": {},
   "source": [
    "### Exercise #1 — Tuple Practice"
   ]
  },
  {
   "cell_type": "code",
   "execution_count": 1,
   "id": "d1356e76",
   "metadata": {},
   "outputs": [
    {
     "name": "stdout",
     "output_type": "stream",
     "text": [
      "Empty tuple: ()\n",
      "Homogeneous: (1, 2, 3, 4)\n",
      "Heterogeneous: (1, 'apple', 3.14, True)\n",
      "Single element: (10,)\n",
      "Modified: (1, 99, 3, 4)\n",
      "Front element: 1\n",
      "Last element: True\n",
      "Is 'apple' in t3? True\n",
      "After add: (1, 'apple', 3.14, True, 'new')\n",
      "After delete: (1, 3.14, True)\n",
      "Iter: 1\n",
      "Iter: 99\n",
      "Iter: 3\n",
      "Iter: 4\n",
      "Concatenated: (1, 99, 3, 4, 10)\n",
      "Length: 5\n",
      "Slice [1:3]: (99, 3)\n",
      "Count of 2: 3\n",
      "Index of 3: 3\n"
     ]
    }
   ],
   "source": [
    "# 1. Empty tuple\n",
    "t1 = ()\n",
    "print(\"Empty tuple:\", t1)\n",
    "\n",
    "# 2. Homogeneous elements\n",
    "t2 = (1, 2, 3, 4)\n",
    "print(\"Homogeneous:\", t2)\n",
    "\n",
    "# 3. Heterogeneous elements\n",
    "t3 = (1, \"apple\", 3.14, True)\n",
    "print(\"Heterogeneous:\", t3)\n",
    "\n",
    "# 4. Single element (note the comma!)\n",
    "t4 = (10,)\n",
    "print(\"Single element:\", t4)\n",
    "\n",
    "# 5. Modify (tuples are immutable → convert to list)\n",
    "t_mod = list(t2)\n",
    "t_mod[1] = 99\n",
    "t2 = tuple(t_mod)\n",
    "print(\"Modified:\", t2)\n",
    "\n",
    "# 6. Access front\n",
    "print(\"Front element:\", t3[0])\n",
    "\n",
    "# 7. Access back\n",
    "print(\"Last element:\", t3[-1])\n",
    "\n",
    "# 8. Search\n",
    "print(\"Is 'apple' in t3?\", \"apple\" in t3)\n",
    "\n",
    "# 9. Add element\n",
    "t_added = t3 + (\"new\",)\n",
    "print(\"After add:\", t_added)\n",
    "\n",
    "# 10. Delete element\n",
    "t_del = list(t3)\n",
    "del t_del[1]\n",
    "t3 = tuple(t_del)\n",
    "print(\"After delete:\", t3)\n",
    "\n",
    "# 11. Iterate\n",
    "for x in t2:\n",
    "    print(\"Iter:\", x)\n",
    "\n",
    "# 12. Concatenate\n",
    "t_concat = t2 + t4\n",
    "print(\"Concatenated:\", t_concat)\n",
    "\n",
    "# 13. Length\n",
    "print(\"Length:\", len(t_concat))\n",
    "\n",
    "# 14. Slice\n",
    "print(\"Slice [1:3]:\", t_concat[1:3])\n",
    "\n",
    "# 15. Count\n",
    "t_test = (1, 2, 2, 3, 2)\n",
    "print(\"Count of 2:\", t_test.count(2))\n",
    "\n",
    "# 16. Index\n",
    "print(\"Index of 3:\", t_test.index(3))\n"
   ]
  },
  {
   "cell_type": "markdown",
   "id": "49758d71",
   "metadata": {},
   "source": [
    "### Exercise #3 — Prime Check"
   ]
  },
  {
   "cell_type": "code",
   "execution_count": 2,
   "id": "59fc8a55",
   "metadata": {},
   "outputs": [
    {
     "name": "stdout",
     "output_type": "stream",
     "text": [
      "12 is not prime\n"
     ]
    }
   ],
   "source": [
    "num = int(input(\"Enter a number: \"))\n",
    "if num > 1:\n",
    "    for i in range(2, int(num**0.5) + 1):\n",
    "        if num % i == 0:\n",
    "            print(f\"{num} is not prime\")\n",
    "            break\n",
    "    else:\n",
    "        print(f\"{num} is prime\")\n",
    "else:\n",
    "    print(f\"{num} is not prime\")\n"
   ]
  },
  {
   "cell_type": "markdown",
   "id": "d97c9b60",
   "metadata": {},
   "source": [
    "### Exercise #4 — Factorial"
   ]
  },
  {
   "cell_type": "code",
   "execution_count": null,
   "id": "768e8803",
   "metadata": {},
   "outputs": [
    {
     "name": "stdout",
     "output_type": "stream",
     "text": [
      "Factorial of 2 = 2\n"
     ]
    }
   ],
   "source": [
    "n = int(input(\"Enter a number: \"))\n",
    "fact = 1\n",
    "for i in range(1, n + 1):\n",
    "    fact *= i\n",
    "print(f\"Factorial of {n} = {fact}\")"
   ]
  },
  {
   "cell_type": "markdown",
   "id": "8294ae92",
   "metadata": {},
   "source": [
    "### Exercise #5 — Simple Chatbot"
   ]
  },
  {
   "cell_type": "code",
   "execution_count": 4,
   "id": "73dec54e",
   "metadata": {},
   "outputs": [
    {
     "name": "stdout",
     "output_type": "stream",
     "text": [
      "Hi! I'm Chatty. Type 'bye' to exit.\n",
      "Chatty: I didn't get that, sorry.\n",
      "Chatty: Hello there!\n",
      "Chatty: I didn't get that, sorry.\n",
      "Chatty: I'm just code, but doing great!\n",
      "Chatty: Bye! Have a nice day.\n"
     ]
    }
   ],
   "source": [
    "print(\"Hi! I'm Chatty. Type 'bye' to exit.\")\n",
    "\n",
    "while True:\n",
    "    user = input(\"You: \").lower()\n",
    "    if user == \"hello\":\n",
    "        print(\"Chatty: Hello there!\")\n",
    "    elif user == \"how are you\":\n",
    "        print(\"Chatty: I'm just code, but doing great!\")\n",
    "    elif user == \"bye\":\n",
    "        print(\"Chatty: Bye! Have a nice day.\")\n",
    "        break\n",
    "    else:\n",
    "        print(\"Chatty: I didn't get that, sorry.\")\n"
   ]
  },
  {
   "cell_type": "markdown",
   "id": "55316c5e",
   "metadata": {},
   "source": [
    "### Exercise #6 — List Operations (Nested etc.)"
   ]
  },
  {
   "cell_type": "code",
   "execution_count": 5,
   "id": "d38eab01",
   "metadata": {},
   "outputs": [
    {
     "name": "stdout",
     "output_type": "stream",
     "text": [
      "List: [1, 2, [3, 4], 5]\n",
      "Length: 4\n",
      "Concatenation: [1, 2, [3, 4], 5, 6, 7]\n",
      "Membership: False\n",
      "Indexing: [3, 4]\n",
      "Slicing: [2, [3, 4], 5]\n",
      "Iteration: 1\n",
      "Iteration: 2\n",
      "Iteration: [3, 4]\n",
      "Iteration: 5\n"
     ]
    }
   ],
   "source": [
    "list1 = [1, 2, [3, 4], 5]\n",
    "print(\"List:\", list1)\n",
    "print(\"Length:\", len(list1))\n",
    "print(\"Concatenation:\", list1 + [6, 7])\n",
    "print(\"Membership:\", 3 in list1)\n",
    "print(\"Indexing:\", list1[2])\n",
    "print(\"Slicing:\", list1[1:4])\n",
    "for item in list1:\n",
    "    print(\"Iteration:\", item)\n"
   ]
  },
  {
   "cell_type": "markdown",
   "id": "e55de21d",
   "metadata": {},
   "source": [
    "### Exercise #7 — List add/append/extend/delete"
   ]
  },
  {
   "cell_type": "code",
   "execution_count": 6,
   "id": "7e930835",
   "metadata": {},
   "outputs": [
    {
     "name": "stdout",
     "output_type": "stream",
     "text": [
      "After append: [10, 20, 30, 40]\n",
      "After extend: [10, 20, 30, 40, 50, 60]\n",
      "After insert: [10, 15, 20, 30, 40, 50, 60]\n",
      "After delete: [10, 15, 30, 40, 50, 60]\n"
     ]
    }
   ],
   "source": [
    "nums = [10, 20, 30]\n",
    "nums.append(40)\n",
    "print(\"After append:\", nums)\n",
    "\n",
    "nums.extend([50, 60])\n",
    "print(\"After extend:\", nums)\n",
    "\n",
    "nums.insert(1, 15)\n",
    "print(\"After insert:\", nums)\n",
    "\n",
    "del nums[2]\n",
    "print(\"After delete:\", nums)\n"
   ]
  },
  {
   "cell_type": "markdown",
   "id": "cbfa13a3",
   "metadata": {},
   "source": [
    "### Exercise #8 — Set Operations"
   ]
  },
  {
   "cell_type": "code",
   "execution_count": 7,
   "id": "1515bdcb",
   "metadata": {},
   "outputs": [
    {
     "name": "stdout",
     "output_type": "stream",
     "text": [
      "Union: {1, 2, 3, 4, 5, 6}\n",
      "Intersection: {3, 4}\n",
      "Difference A-B: {1, 2}\n",
      "Symmetric difference: {1, 2, 5, 6}\n"
     ]
    }
   ],
   "source": [
    "A = {1, 2, 3, 4}\n",
    "B = {3, 4, 5, 6}\n",
    "\n",
    "print(\"Union:\", A | B)\n",
    "print(\"Intersection:\", A & B)\n",
    "print(\"Difference A-B:\", A - B)\n",
    "print(\"Symmetric difference:\", A ^ B)\n"
   ]
  },
  {
   "cell_type": "markdown",
   "id": "716c5ec8",
   "metadata": {},
   "source": [
    "### Exercise #9 — Calendar"
   ]
  },
  {
   "cell_type": "code",
   "execution_count": 8,
   "id": "421a2209",
   "metadata": {},
   "outputs": [
    {
     "name": "stdout",
     "output_type": "stream",
     "text": [
      "     July 2020\n",
      "Mo Tu We Th Fr Sa Su\n",
      "       1  2  3  4  5\n",
      " 6  7  8  9 10 11 12\n",
      "13 14 15 16 17 18 19\n",
      "20 21 22 23 24 25 26\n",
      "27 28 29 30 31\n",
      "\n"
     ]
    }
   ],
   "source": [
    "import calendar\n",
    "y = int(input(\"Enter year: \"))\n",
    "m = int(input(\"Enter month: \"))\n",
    "print(calendar.month(y, m))\n"
   ]
  },
  {
   "cell_type": "markdown",
   "id": "def0932d",
   "metadata": {},
   "source": [
    "### Exercise #10 — Simple Calculator"
   ]
  },
  {
   "cell_type": "code",
   "execution_count": 9,
   "id": "5c3051c9",
   "metadata": {},
   "outputs": [
    {
     "name": "stdout",
     "output_type": "stream",
     "text": [
      "-1.0\n"
     ]
    }
   ],
   "source": [
    "a = float(input(\"Enter first number: \"))\n",
    "b = float(input(\"Enter second number: \"))\n",
    "op = input(\"Enter operation (+, -, *, /): \")\n",
    "\n",
    "if op == '+':\n",
    "    print(a + b)\n",
    "elif op == '-':\n",
    "    print(a - b)\n",
    "elif op == '*':\n",
    "    print(a * b)\n",
    "elif op == '/':\n",
    "    print(a / b)\n",
    "else:\n",
    "    print(\"Invalid operator\")\n"
   ]
  },
  {
   "cell_type": "markdown",
   "id": "46759242",
   "metadata": {},
   "source": [
    "### Exercise #11 — Add Two Matrices"
   ]
  },
  {
   "cell_type": "code",
   "execution_count": 10,
   "id": "dd848b67",
   "metadata": {},
   "outputs": [
    {
     "name": "stdout",
     "output_type": "stream",
     "text": [
      "[10, 10, 10]\n",
      "[10, 10, 10]\n",
      "[10, 10, 10]\n"
     ]
    }
   ],
   "source": [
    "X = [[1, 2, 3],\n",
    "     [4, 5, 6],\n",
    "     [7, 8, 9]]\n",
    "\n",
    "Y = [[9, 8, 7],\n",
    "     [6, 5, 4],\n",
    "     [3, 2, 1]]\n",
    "\n",
    "result = [[X[i][j] + Y[i][j] for j in range(len(X[0]))] for i in range(len(X))]\n",
    "for r in result:\n",
    "    print(r)\n"
   ]
  },
  {
   "cell_type": "markdown",
   "id": "dc5e72de",
   "metadata": {},
   "source": [
    "### Exercise #12 — Transpose Matrix### "
   ]
  },
  {
   "cell_type": "code",
   "execution_count": 11,
   "id": "1d91ce5d",
   "metadata": {},
   "outputs": [
    {
     "name": "stdout",
     "output_type": "stream",
     "text": [
      "[1, 4]\n",
      "[2, 5]\n",
      "[3, 6]\n"
     ]
    }
   ],
   "source": [
    "X = [[1, 2, 3],\n",
    "     [4, 5, 6]]\n",
    "\n",
    "transpose = [[X[j][i] for j in range(len(X))] for i in range(len(X[0]))]\n",
    "for r in transpose:\n",
    "    print(r)\n"
   ]
  },
  {
   "cell_type": "code",
   "execution_count": null,
   "id": "308946c2",
   "metadata": {},
   "outputs": [],
   "source": []
  }
 ],
 "metadata": {
  "kernelspec": {
   "display_name": "Python 3",
   "language": "python",
   "name": "python3"
  },
  "language_info": {
   "codemirror_mode": {
    "name": "ipython",
    "version": 3
   },
   "file_extension": ".py",
   "mimetype": "text/x-python",
   "name": "python",
   "nbconvert_exporter": "python",
   "pygments_lexer": "ipython3",
   "version": "3.12.6"
  }
 },
 "nbformat": 4,
 "nbformat_minor": 5
}
